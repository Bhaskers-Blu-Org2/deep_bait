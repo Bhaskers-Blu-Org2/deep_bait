{
 "cells": [
  {
   "cell_type": "markdown",
   "metadata": {},
   "source": [
    "# High-level Gluon Example"
   ]
  },
  {
   "cell_type": "code",
   "execution_count": 2,
   "metadata": {
    "tags": [
     "parameters"
    ]
   },
   "outputs": [],
   "source": [
    "# Parameters\n",
    "EPOCHS = 10\n",
    "N_CLASSES=10\n",
    "BATCHSIZE = 64\n",
    "LR = 0.01\n",
    "MOMENTUM = 0.9\n",
    "GPU = True\n",
    "\n",
    "LOGGER_URL='msdlvm.southcentralus.cloudapp.azure.com'\n",
    "LOGGER_USRENAME='admin'\n",
    "LOGGER_PASSWORD='password'\n",
    "LOGGER_DB='gpudata'\n",
    "LOGGER_SERIES='gpu'"
   ]
  },
  {
   "cell_type": "code",
   "execution_count": 3,
   "metadata": {},
   "outputs": [],
   "source": [
    "import os\n",
    "from os import path\n",
    "import sys\n",
    "import numpy as np\n",
    "import math\n",
    "import mxnet as mx\n",
    "from mxnet import nd, autograd\n",
    "from mxnet import gluon\n",
    "from utils import cifar_for_library, yield_mb, create_logger, Timer\n",
    "from nb_logging import NotebookLogger, output_to, error_to\n",
    "from gpumon.influxdb import log_context\n",
    "import codecs\n",
    "\n",
    "from influxdb import InfluxDBClient"
   ]
  },
  {
   "cell_type": "code",
   "execution_count": 4,
   "metadata": {},
   "outputs": [],
   "source": [
    "client = InfluxDBClient(LOGGER_URL, 8086, LOGGER_USRENAME, LOGGER_PASSWORD, LOGGER_DB)"
   ]
  },
  {
   "cell_type": "code",
   "execution_count": 5,
   "metadata": {},
   "outputs": [],
   "source": [
    "node_id = os.getenv('AZ_BATCH_NODE_ID', default='node')\n",
    "task_id = os.getenv('AZ_BATCH_TASK_ID', default='gluon')\n",
    "job_id = os.getenv('AZ_BATCH_JOB_ID', default='gluon')"
   ]
  },
  {
   "cell_type": "code",
   "execution_count": 6,
   "metadata": {},
   "outputs": [],
   "source": [
    "logger = create_logger(client, node_id=node_id, task_id=task_id, job_id=job_id)"
   ]
  },
  {
   "cell_type": "code",
   "execution_count": 7,
   "metadata": {},
   "outputs": [],
   "source": [
    "ctx = mx.gpu()"
   ]
  },
  {
   "cell_type": "code",
   "execution_count": 8,
   "metadata": {},
   "outputs": [],
   "source": [
    "# sys.__stdout__ = codecs.getwriter(\"utf-8\")(sys.__stdout__.detach())"
   ]
  },
  {
   "cell_type": "code",
   "execution_count": 9,
   "metadata": {},
   "outputs": [],
   "source": [
    "# nb_teminal_logger = NotebookLogger(sys.stdout.session, sys.stdout.pub_thread, sys.stdout.name, sys.__stdout__)"
   ]
  },
  {
   "cell_type": "code",
   "execution_count": 10,
   "metadata": {},
   "outputs": [
    {
     "name": "stderr",
     "output_type": "stream",
     "text": [
      "INFO:gpumon.influxdb_gpu_logger:Logging GPU to Database msdlvm.southcentralus.cloudapp.azure.com\n",
      "INFO:gpumon.influxdb_gpu_logger:['influxdb_gpu_logger.py', 'msdlvm.southcentralus.cloudapp.azure.com', '8086', 'admin', 'password', 'gpudata', 'gpu', '--node_id=node', '--task_id=gluon', '--job_id=gluon']\n"
     ]
    }
   ],
   "source": [
    "# rst_out = output_to(nb_teminal_logger)\n",
    "# rst_err = error_to(nb_teminal_logger)"
   ]
  },
  {
   "cell_type": "code",
   "execution_count": 11,
   "metadata": {},
   "outputs": [
    {
     "name": "stdout",
     "output_type": "stream",
     "text": [
      "OS:  linux\n",
      "Python:  3.5.2 (default, Nov 23 2017, 16:37:01) \n",
      "[GCC 5.4.0 20160609]\n",
      "MXNet:  1.0.0\n",
      "Numpy:  1.13.3\n"
     ]
    }
   ],
   "source": [
    "print(\"OS: \", sys.platform)\n",
    "print(\"Python: \", sys.version)\n",
    "print(\"MXNet: \", mx.__version__)\n",
    "print(\"Numpy: \", np.__version__)"
   ]
  },
  {
   "cell_type": "code",
   "execution_count": 12,
   "metadata": {},
   "outputs": [],
   "source": [
    "data_path = path.join(os.getenv('AZ_BATCHAI_INPUT_DATASET'), 'cifar-10-batches-py')"
   ]
  },
  {
   "cell_type": "code",
   "execution_count": 13,
   "metadata": {},
   "outputs": [],
   "source": [
    "def SymbolModule():\n",
    "    sym = gluon.nn.Sequential()\n",
    "    with sym.name_scope():\n",
    "        sym.add(gluon.nn.Conv2D(channels=50, kernel_size=3, padding=1, activation='relu'))\n",
    "        sym.add(gluon.nn.Conv2D(channels=50, kernel_size=3, padding=1))\n",
    "        sym.add(gluon.nn.MaxPool2D(pool_size=2, strides=2))\n",
    "        sym.add(gluon.nn.Activation('relu'))\n",
    "        # Equiv to gluon.nn.LeakyReLU(0)\n",
    "        sym.add(gluon.nn.Dropout(0.25))\n",
    "        sym.add(gluon.nn.Conv2D(channels=100, kernel_size=3, padding=1, activation='relu'))\n",
    "        sym.add(gluon.nn.Conv2D(channels=100, kernel_size=3, padding=1))\n",
    "        sym.add(gluon.nn.MaxPool2D(pool_size=2, strides=2))\n",
    "        sym.add(gluon.nn.Activation('relu'))\n",
    "        sym.add(gluon.nn.Dropout(0.25))\n",
    "        sym.add(gluon.nn.Flatten())\n",
    "        sym.add(gluon.nn.Dense(512, activation='relu'))\n",
    "        sym.add(gluon.nn.Dropout(0.25))\n",
    "        sym.add(gluon.nn.Dense(N_CLASSES))\n",
    "    return sym"
   ]
  },
  {
   "cell_type": "code",
   "execution_count": 14,
   "metadata": {},
   "outputs": [],
   "source": [
    "def init_model(m):\n",
    "    trainer = gluon.Trainer(m.collect_params(), 'sgd',\n",
    "                            {'learning_rate': LR, 'momentum':MOMENTUM})\n",
    "    criterion = gluon.loss.SoftmaxCrossEntropyLoss()\n",
    "    return trainer, criterion"
   ]
  },
  {
   "cell_type": "code",
   "execution_count": 15,
   "metadata": {
    "scrolled": true
   },
   "outputs": [
    {
     "name": "stdout",
     "output_type": "stream",
     "text": [
      "Preparing train set...\n",
      "Preparing test set...\n",
      "Done.\n",
      "(50000, 3, 32, 32) (10000, 3, 32, 32) (50000,) (10000,)\n",
      "float32 float32 int32 int32\n",
      "CPU times: user 852 ms, sys: 768 ms, total: 1.62 s\n",
      "Wall time: 1.62 s\n"
     ]
    }
   ],
   "source": [
    "%%time\n",
    "# Data into format for library\n",
    "x_train, x_test, y_train, y_test = cifar_for_library(data_path, channel_first=True)\n",
    "\n",
    "print(x_train.shape, x_test.shape, y_train.shape, y_test.shape)\n",
    "print(x_train.dtype, x_test.dtype, y_train.dtype, y_test.dtype)"
   ]
  },
  {
   "cell_type": "code",
   "execution_count": 16,
   "metadata": {},
   "outputs": [
    {
     "name": "stdout",
     "output_type": "stream",
     "text": [
      "CPU times: user 392 ms, sys: 404 ms, total: 796 ms\n",
      "Wall time: 1.37 s\n"
     ]
    }
   ],
   "source": [
    "%%time\n",
    "sym = SymbolModule()\n",
    "sym.collect_params().initialize(mx.init.Xavier(magnitude=2.24), ctx=ctx)"
   ]
  },
  {
   "cell_type": "code",
   "execution_count": null,
   "metadata": {},
   "outputs": [
    {
     "name": "stdout",
     "output_type": "stream",
     "text": [
      "CPU times: user 0 ns, sys: 0 ns, total: 0 ns\n",
      "Wall time: 268 µs\n"
     ]
    }
   ],
   "source": [
    "%%time\n",
    "trainer, criterion = init_model(sym)"
   ]
  },
  {
   "cell_type": "code",
   "execution_count": null,
   "metadata": {},
   "outputs": [
    {
     "name": "stdout",
     "output_type": "stream",
     "text": [
      "Epoch   0: loss: 1.8363\n",
      "Epoch   1: loss: 1.3678\n",
      "Epoch   2: loss: 1.1515\n",
      "Epoch   3: loss: 0.9821\n",
      "Epoch   4: loss: 0.8468\n",
      "Epoch   5: loss: 0.7368\n"
     ]
    }
   ],
   "source": [
    "with Timer() as t:\n",
    "    with log_context(LOGGER_URL, LOGGER_USRENAME, LOGGER_PASSWORD, LOGGER_DB, LOGGER_SERIES, \n",
    "                     node_id=node_id, task_id=task_id, job_id=job_id):\n",
    "        # Sets training = True \n",
    "        for j in range(EPOCHS):\n",
    "            train_loss = 0.0\n",
    "            for data, target in yield_mb(x_train, y_train, BATCHSIZE, shuffle=True):\n",
    "                # Get samples\n",
    "                data = nd.array(data).as_in_context(ctx)\n",
    "                target = nd.array(target).as_in_context(ctx)\n",
    "                with autograd.record():\n",
    "                    # Forwards\n",
    "                    output = sym(data)\n",
    "                    # Loss\n",
    "                    loss = criterion(output, target)\n",
    "                # Back-prop\n",
    "                loss.backward()\n",
    "                trainer.step(data.shape[0])\n",
    "                train_loss += nd.sum(loss).asscalar()\n",
    "            # Log\n",
    "            print('Epoch %3d: loss: %5.4f'%(j, train_loss/len(x_train)))\n",
    "print('Training took %.03f sec.' % t.interval)\n",
    "logger('training duration', value=t.interval)"
   ]
  },
  {
   "cell_type": "code",
   "execution_count": null,
   "metadata": {},
   "outputs": [],
   "source": [
    "%%time\n",
    "# Test model\n",
    "n_samples = (y_test.shape[0]//BATCHSIZE)*BATCHSIZE\n",
    "y_guess = np.zeros(n_samples, dtype=np.int)\n",
    "y_truth = y_test[:n_samples]\n",
    "c = 0\n",
    "for data, target in yield_mb(x_test, y_test, BATCHSIZE):\n",
    "    # Get samples\n",
    "    data = nd.array(data).as_in_context(ctx)\n",
    "    # Forwards\n",
    "    output = sym(data)\n",
    "    pred = nd.argmax(output, axis=1)\n",
    "    # Collect results\n",
    "    y_guess[c*BATCHSIZE:(c+1)*BATCHSIZE] = pred.asnumpy()\n",
    "    c += 1"
   ]
  },
  {
   "cell_type": "code",
   "execution_count": null,
   "metadata": {},
   "outputs": [],
   "source": [
    "acc=sum(y_guess == y_truth)/len(y_guess)\n",
    "print(\"Accuracy: \", acc)\n",
    "logger('accuracy', value=acc)"
   ]
  }
 ],
 "metadata": {
  "anaconda-cloud": {},
  "celltoolbar": "Tags",
  "kernelspec": {
   "display_name": "Python 3",
   "language": "python",
   "name": "python3"
  },
  "language_info": {
   "codemirror_mode": {
    "name": "ipython",
    "version": 3
   },
   "file_extension": ".py",
   "mimetype": "text/x-python",
   "name": "python",
   "nbconvert_exporter": "python",
   "pygments_lexer": "ipython3",
   "version": "3.5.2"
  }
 },
 "nbformat": 4,
 "nbformat_minor": 2
}
